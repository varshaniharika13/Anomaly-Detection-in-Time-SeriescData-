{
  "nbformat": 4,
  "nbformat_minor": 0,
  "metadata": {
    "colab": {
      "provenance": []
    },
    "kernelspec": {
      "name": "python3",
      "display_name": "Python 3"
    },
    "language_info": {
      "name": "python"
    }
  },
  "cells": [
    {
      "cell_type": "code",
      "source": [
        "!pip install dgl"
      ],
      "metadata": {
        "colab": {
          "base_uri": "https://localhost:8080/"
        },
        "id": "0_rm1hBb0M4G",
        "outputId": "41395be1-9f42-4237-a179-38651a2a32ed"
      },
      "execution_count": null,
      "outputs": [
        {
          "output_type": "stream",
          "name": "stdout",
          "text": [
            "Requirement already satisfied: dgl in /usr/local/lib/python3.10/dist-packages (2.1.0)\n",
            "Requirement already satisfied: numpy>=1.14.0 in /usr/local/lib/python3.10/dist-packages (from dgl) (1.25.2)\n",
            "Requirement already satisfied: scipy>=1.1.0 in /usr/local/lib/python3.10/dist-packages (from dgl) (1.11.4)\n",
            "Requirement already satisfied: networkx>=2.1 in /usr/local/lib/python3.10/dist-packages (from dgl) (3.3)\n",
            "Requirement already satisfied: requests>=2.19.0 in /usr/local/lib/python3.10/dist-packages (from dgl) (2.31.0)\n",
            "Requirement already satisfied: tqdm in /usr/local/lib/python3.10/dist-packages (from dgl) (4.66.2)\n",
            "Requirement already satisfied: psutil>=5.8.0 in /usr/local/lib/python3.10/dist-packages (from dgl) (5.9.5)\n",
            "Requirement already satisfied: torchdata>=0.5.0 in /usr/local/lib/python3.10/dist-packages (from dgl) (0.7.1)\n",
            "Requirement already satisfied: charset-normalizer<4,>=2 in /usr/local/lib/python3.10/dist-packages (from requests>=2.19.0->dgl) (3.3.2)\n",
            "Requirement already satisfied: idna<4,>=2.5 in /usr/local/lib/python3.10/dist-packages (from requests>=2.19.0->dgl) (3.7)\n",
            "Requirement already satisfied: urllib3<3,>=1.21.1 in /usr/local/lib/python3.10/dist-packages (from requests>=2.19.0->dgl) (2.0.7)\n",
            "Requirement already satisfied: certifi>=2017.4.17 in /usr/local/lib/python3.10/dist-packages (from requests>=2.19.0->dgl) (2024.2.2)\n",
            "Requirement already satisfied: torch>=2 in /usr/local/lib/python3.10/dist-packages (from torchdata>=0.5.0->dgl) (2.2.1+cu121)\n",
            "Requirement already satisfied: filelock in /usr/local/lib/python3.10/dist-packages (from torch>=2->torchdata>=0.5.0->dgl) (3.13.4)\n",
            "Requirement already satisfied: typing-extensions>=4.8.0 in /usr/local/lib/python3.10/dist-packages (from torch>=2->torchdata>=0.5.0->dgl) (4.11.0)\n",
            "Requirement already satisfied: sympy in /usr/local/lib/python3.10/dist-packages (from torch>=2->torchdata>=0.5.0->dgl) (1.12)\n",
            "Requirement already satisfied: jinja2 in /usr/local/lib/python3.10/dist-packages (from torch>=2->torchdata>=0.5.0->dgl) (3.1.3)\n",
            "Requirement already satisfied: fsspec in /usr/local/lib/python3.10/dist-packages (from torch>=2->torchdata>=0.5.0->dgl) (2023.6.0)\n",
            "Requirement already satisfied: nvidia-cuda-nvrtc-cu12==12.1.105 in /usr/local/lib/python3.10/dist-packages (from torch>=2->torchdata>=0.5.0->dgl) (12.1.105)\n",
            "Requirement already satisfied: nvidia-cuda-runtime-cu12==12.1.105 in /usr/local/lib/python3.10/dist-packages (from torch>=2->torchdata>=0.5.0->dgl) (12.1.105)\n",
            "Requirement already satisfied: nvidia-cuda-cupti-cu12==12.1.105 in /usr/local/lib/python3.10/dist-packages (from torch>=2->torchdata>=0.5.0->dgl) (12.1.105)\n",
            "Requirement already satisfied: nvidia-cudnn-cu12==8.9.2.26 in /usr/local/lib/python3.10/dist-packages (from torch>=2->torchdata>=0.5.0->dgl) (8.9.2.26)\n",
            "Requirement already satisfied: nvidia-cublas-cu12==12.1.3.1 in /usr/local/lib/python3.10/dist-packages (from torch>=2->torchdata>=0.5.0->dgl) (12.1.3.1)\n",
            "Requirement already satisfied: nvidia-cufft-cu12==11.0.2.54 in /usr/local/lib/python3.10/dist-packages (from torch>=2->torchdata>=0.5.0->dgl) (11.0.2.54)\n",
            "Requirement already satisfied: nvidia-curand-cu12==10.3.2.106 in /usr/local/lib/python3.10/dist-packages (from torch>=2->torchdata>=0.5.0->dgl) (10.3.2.106)\n",
            "Requirement already satisfied: nvidia-cusolver-cu12==11.4.5.107 in /usr/local/lib/python3.10/dist-packages (from torch>=2->torchdata>=0.5.0->dgl) (11.4.5.107)\n",
            "Requirement already satisfied: nvidia-cusparse-cu12==12.1.0.106 in /usr/local/lib/python3.10/dist-packages (from torch>=2->torchdata>=0.5.0->dgl) (12.1.0.106)\n",
            "Requirement already satisfied: nvidia-nccl-cu12==2.19.3 in /usr/local/lib/python3.10/dist-packages (from torch>=2->torchdata>=0.5.0->dgl) (2.19.3)\n",
            "Requirement already satisfied: nvidia-nvtx-cu12==12.1.105 in /usr/local/lib/python3.10/dist-packages (from torch>=2->torchdata>=0.5.0->dgl) (12.1.105)\n",
            "Requirement already satisfied: triton==2.2.0 in /usr/local/lib/python3.10/dist-packages (from torch>=2->torchdata>=0.5.0->dgl) (2.2.0)\n",
            "Requirement already satisfied: nvidia-nvjitlink-cu12 in /usr/local/lib/python3.10/dist-packages (from nvidia-cusolver-cu12==11.4.5.107->torch>=2->torchdata>=0.5.0->dgl) (12.4.127)\n",
            "Requirement already satisfied: MarkupSafe>=2.0 in /usr/local/lib/python3.10/dist-packages (from jinja2->torch>=2->torchdata>=0.5.0->dgl) (2.1.5)\n",
            "Requirement already satisfied: mpmath>=0.19 in /usr/local/lib/python3.10/dist-packages (from sympy->torch>=2->torchdata>=0.5.0->dgl) (1.3.0)\n"
          ]
        }
      ]
    },
    {
      "cell_type": "code",
      "source": [
        "import h5py\n",
        "import numpy as np\n",
        "import torch\n",
        "import dgl\n",
        "from dgl.nn import GraphConv\n",
        "import torch.nn.functional as F\n",
        "import torch.nn as nn\n",
        "import torch.optim as optim\n",
        "from sklearn.preprocessing import StandardScaler\n",
        "\n",
        "# Load the dataset\n",
        "file_path = '/content/SMAP.h5'\n",
        "with h5py.File(file_path, 'r') as file:\n",
        "    print(list(file.keys()))\n",
        "    soil_moisture = np.array(file['Soil_Moisture_Retrieval_Data']['soil_moisture'])\n",
        "    soil_moisture = soil_moisture[soil_moisture != -9999]\n",
        "\n",
        "# Normalize the data\n",
        "scaler = StandardScaler()\n",
        "soil_moisture_scaled = scaler.fit_transform(soil_moisture.reshape(-1, 1)).flatten()\n",
        "\n",
        "# Create a simple linear chain graph\n",
        "data_tensor = torch.tensor(soil_moisture_scaled, dtype=torch.float32)\n",
        "edges_src = torch.arange(0, len(data_tensor) - 1)\n",
        "edges_dst = torch.arange(1, len(data_tensor))\n",
        "\n",
        "# Create the graph\n",
        "g = dgl.graph((edges_src, edges_dst))\n",
        "g = dgl.add_self_loop(g)\n",
        "\n",
        "# Assign features to all nodes\n",
        "g.ndata['feat'] = data_tensor.unsqueeze(1)\n",
        "\n",
        "class GCNModel(nn.Module):\n",
        "    def __init__(self, in_feats, h_feats, num_classes):\n",
        "        super(GCNModel, self).__init__()\n",
        "        self.conv1 = GraphConv(in_feats, h_feats, allow_zero_in_degree=True)\n",
        "        self.conv2 = GraphConv(h_feats, num_classes, allow_zero_in_degree=True)\n",
        "\n",
        "    def forward(self, g, features):\n",
        "        x = F.relu(self.conv1(g, features))\n",
        "        x = self.conv2(g, x)\n",
        "        return x\n",
        "\n",
        "model = GCNModel(in_feats=1, h_feats=16, num_classes=1)\n",
        "optimizer = optim.Adam(model.parameters(), lr=0.005)\n",
        "criterion = nn.MSELoss()\n",
        "\n",
        "# Training loop\n",
        "def train(graph, features, epochs=50):\n",
        "    for epoch in range(epochs):\n",
        "        model.train()\n",
        "        logits = model(graph, features)\n",
        "        loss = criterion(logits, features)\n",
        "        optimizer.zero_grad()\n",
        "        loss.backward()\n",
        "        optimizer.step()\n",
        "        if epoch % 5 == 0:\n",
        "            print(f'Epoch {epoch}: Loss {loss.item()}')\n",
        "\n",
        "train(g, g.ndata['feat'])\n",
        "\n",
        "# Inference (for illustration, assume anomaly score based on deviation from zero)\n",
        "model.eval()\n",
        "with torch.no_grad():\n",
        "    logits = model(g, g.ndata['feat'])\n",
        "    anomaly_score = torch.abs(logits.squeeze() - 0)  # Deviation from zero prediction\n",
        "\n",
        "print(anomaly_score[:10])\n",
        "\n",
        "# Simulating accuracy calculation as discussed previously\n",
        "threshold = anomaly_score.mean()\n",
        "predicted_labels = (anomaly_score > threshold).float()\n",
        "true_labels = (torch.rand(len(anomaly_score)) < 0.59).float()  # Simulated true labels\n",
        "correct_predictions = (predicted_labels == true_labels).float().sum()\n",
        "accuracy = correct_predictions / len(true_labels)\n",
        "print(f'Calculated Accuracy: {accuracy:.2f}')\n"
      ],
      "metadata": {
        "colab": {
          "base_uri": "https://localhost:8080/"
        },
        "id": "7oq7DF2Y7P0Q",
        "outputId": "c5df7b6f-fe24-44b2-ff02-8b43774eb364"
      },
      "execution_count": null,
      "outputs": [
        {
          "output_type": "stream",
          "name": "stdout",
          "text": [
            "['Metadata', 'Soil_Moisture_Retrieval_Data', 'Soil_Moisture_Retrieval_Data_Polar']\n",
            "Epoch 0: Loss 0.912585437297821\n",
            "Epoch 5: Loss 0.7271197438240051\n",
            "Epoch 10: Loss 0.579531729221344\n",
            "Epoch 15: Loss 0.46787601709365845\n",
            "Epoch 20: Loss 0.388121098279953\n",
            "Epoch 25: Loss 0.3317934572696686\n",
            "Epoch 30: Loss 0.2870759069919586\n",
            "Epoch 35: Loss 0.24781343340873718\n",
            "Epoch 40: Loss 0.21603159606456757\n",
            "Epoch 45: Loss 0.19170722365379333\n",
            "tensor([0.4674, 0.9193, 1.1016, 0.7824, 0.4342, 0.8097, 1.0295, 0.6469, 0.4664,\n",
            "        0.7369])\n",
            "Calculated Accuracy: 0.51\n"
          ]
        }
      ]
    }
  ]
}